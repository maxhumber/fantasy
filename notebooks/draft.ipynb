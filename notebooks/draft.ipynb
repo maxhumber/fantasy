{
 "cells": [
  {
   "cell_type": "code",
   "execution_count": 1,
   "metadata": {},
   "outputs": [],
   "source": [
    "import pandas as pd\n",
    "import numpy as np\n",
    "\n",
    "pd.options.display.max_rows = 1_000"
   ]
  },
  {
   "cell_type": "markdown",
   "metadata": {},
   "source": [
    "### Metdata"
   ]
  },
  {
   "cell_type": "code",
   "execution_count": 2,
   "metadata": {},
   "outputs": [],
   "source": [
    "yah = pd.read_csv(\"../data/yahoo.csv\")\n",
    "cap = pd.read_csv(\"../data/capfriendly.csv\")"
   ]
  },
  {
   "cell_type": "markdown",
   "metadata": {},
   "source": [
    "### Master List"
   ]
  },
  {
   "cell_type": "code",
   "execution_count": 3,
   "metadata": {},
   "outputs": [],
   "source": [
    "master = pd.merge(yah, cap, how=\"left\", on=\"name\")"
   ]
  },
  {
   "cell_type": "code",
   "execution_count": 4,
   "metadata": {},
   "outputs": [
    {
     "data": {
      "text/html": [
       "<div>\n",
       "<style scoped>\n",
       "    .dataframe tbody tr th:only-of-type {\n",
       "        vertical-align: middle;\n",
       "    }\n",
       "\n",
       "    .dataframe tbody tr th {\n",
       "        vertical-align: top;\n",
       "    }\n",
       "\n",
       "    .dataframe thead th {\n",
       "        text-align: right;\n",
       "    }\n",
       "</style>\n",
       "<table border=\"1\" class=\"dataframe\">\n",
       "  <thead>\n",
       "    <tr style=\"text-align: right;\">\n",
       "      <th></th>\n",
       "      <th>name</th>\n",
       "      <th>team</th>\n",
       "      <th>position</th>\n",
       "      <th>pick</th>\n",
       "      <th>age</th>\n",
       "      <th>salary</th>\n",
       "    </tr>\n",
       "  </thead>\n",
       "  <tbody>\n",
       "    <tr>\n",
       "      <th>0</th>\n",
       "      <td>Connor McDavid</td>\n",
       "      <td>Edm</td>\n",
       "      <td>C</td>\n",
       "      <td>1.7</td>\n",
       "      <td>23.0</td>\n",
       "      <td>14000000.0</td>\n",
       "    </tr>\n",
       "    <tr>\n",
       "      <th>1</th>\n",
       "      <td>Nathan MacKinnon</td>\n",
       "      <td>Col</td>\n",
       "      <td>C</td>\n",
       "      <td>2.6</td>\n",
       "      <td>25.0</td>\n",
       "      <td>6150000.0</td>\n",
       "    </tr>\n",
       "    <tr>\n",
       "      <th>2</th>\n",
       "      <td>Leon Draisaitl</td>\n",
       "      <td>Edm</td>\n",
       "      <td>C,LW</td>\n",
       "      <td>3.7</td>\n",
       "      <td>25.0</td>\n",
       "      <td>9000000.0</td>\n",
       "    </tr>\n",
       "    <tr>\n",
       "      <th>3</th>\n",
       "      <td>Artemi Panarin</td>\n",
       "      <td>NYR</td>\n",
       "      <td>LW</td>\n",
       "      <td>5.3</td>\n",
       "      <td>29.0</td>\n",
       "      <td>13000000.0</td>\n",
       "    </tr>\n",
       "    <tr>\n",
       "      <th>4</th>\n",
       "      <td>Alex Ovechkin</td>\n",
       "      <td>Was</td>\n",
       "      <td>LW</td>\n",
       "      <td>5.6</td>\n",
       "      <td>35.0</td>\n",
       "      <td>10000000.0</td>\n",
       "    </tr>\n",
       "  </tbody>\n",
       "</table>\n",
       "</div>"
      ],
      "text/plain": [
       "               name team position  pick   age      salary\n",
       "0    Connor McDavid  Edm        C   1.7  23.0  14000000.0\n",
       "1  Nathan MacKinnon  Col        C   2.6  25.0   6150000.0\n",
       "2    Leon Draisaitl  Edm     C,LW   3.7  25.0   9000000.0\n",
       "3    Artemi Panarin  NYR       LW   5.3  29.0  13000000.0\n",
       "4     Alex Ovechkin  Was       LW   5.6  35.0  10000000.0"
      ]
     },
     "execution_count": 4,
     "metadata": {},
     "output_type": "execute_result"
    }
   ],
   "source": [
    "master.head()"
   ]
  },
  {
   "cell_type": "markdown",
   "metadata": {},
   "source": [
    "### Multiple Positions"
   ]
  },
  {
   "cell_type": "code",
   "execution_count": 5,
   "metadata": {},
   "outputs": [],
   "source": [
    "multi = (\n",
    "    master\n",
    "    [[\"name\", \"position\"]]\n",
    "    .set_index(['name']) \n",
    "    .apply(lambda col: col.str.split(',').explode())\n",
    "    .reset_index()\n",
    ")"
   ]
  },
  {
   "cell_type": "markdown",
   "metadata": {},
   "source": [
    "### Projection Data"
   ]
  },
  {
   "cell_type": "code",
   "execution_count": 6,
   "metadata": {},
   "outputs": [],
   "source": [
    "cbs = pd.read_csv(\"../data/cbs.csv\")\n",
    "dfo = pd.read_csv(\"../data/dailyfaceoff.csv\")\n",
    "proj = pd.concat([cbs, dfo])"
   ]
  },
  {
   "cell_type": "markdown",
   "metadata": {},
   "source": [
    "### Goalies"
   ]
  },
  {
   "cell_type": "code",
   "execution_count": 7,
   "metadata": {},
   "outputs": [],
   "source": [
    "goalies = proj[proj[\"position\"] == \"G\"].copy()\n",
    "\n",
    "GOALIE_CATEGORIES = [\"wins\", \"goals_against_average\",\"saves\", \"shutouts\"]\n",
    "\n",
    "goalies['goals_against_average'] = -goalies['goals_against_average']\n",
    "\n",
    "goalies = (\n",
    "    goalies\n",
    "    [[\"name\"] + GOALIE_CATEGORIES]\n",
    "    .groupby(\"name\")\n",
    "    .mean()\n",
    "    .apply(lambda x: (x - x.min()) / (x.max() - x.min()))\n",
    ")\n",
    "\n",
    "goalies[\"wins\"] *= 1/1\n",
    "goalies[\"goals_against_average\"] *= 3/4\n",
    "goalies[\"saves\"] *= 3/4\n",
    "goalies[\"shutouts\"] *= 1/2\n",
    "\n",
    "goalies[\"rollup\"] = goalies.apply(lambda row: row.sum(), axis=1)\n",
    "goalies[\"rollup\"] /= 1 + 3/4 + 3/4 + 1/2\n",
    "goalies[\"rollup\"] *= 100\n",
    "\n",
    "goalies = goalies.reset_index()\n",
    "\n",
    "goalies = goalies[[\"name\", \"rollup\"]]"
   ]
  },
  {
   "cell_type": "markdown",
   "metadata": {},
   "source": [
    "### Skaters"
   ]
  },
  {
   "cell_type": "code",
   "execution_count": 8,
   "metadata": {},
   "outputs": [],
   "source": [
    "skaters = proj[proj[\"position\"] != \"G\"].copy()\n",
    "\n",
    "SKATER_CATEGORIES = ['goals', 'assists', 'plus_minus', 'powerplay_points', 'shots_on_goal', 'hits', 'blocks']\n",
    "\n",
    "skaters = skaters[[\"name\"] + SKATER_CATEGORIES]\n",
    "\n",
    "skaters = (\n",
    "    skaters\n",
    "    [[\"name\"] + SKATER_CATEGORIES]\n",
    "    .groupby(\"name\")\n",
    "    .mean()\n",
    "    .apply(lambda x: (x - x.min()) / (x.max() - x.min()))\n",
    ")\n",
    "\n",
    "skaters.sort_values(\"name\")\n",
    "\n",
    "skaters['goals'] *= 7/8\n",
    "skaters['assists'] *= 7/8\n",
    "skaters['plus_minus'] *= 3/4\n",
    "skaters['powerplay_points'] *= 3/4\n",
    "skaters['shots_on_goal'] *= 1\n",
    "skaters['hits'] *= 1\n",
    "skaters['blocks'] *= 1\n",
    "\n",
    "skaters[\"rollup\"] = skaters.apply(lambda row: row.sum(), axis=1)\n",
    "skaters[\"rollup\"] /= 7/8 + 7/8 + 3/4 +3/4 + 1 + 1 + 1\n",
    "skaters[\"rollup\"] *= 100\n",
    "\n",
    "skaters = skaters.reset_index()\n",
    "\n",
    "skaters = skaters[[\"name\", \"rollup\"]]"
   ]
  },
  {
   "cell_type": "markdown",
   "metadata": {},
   "source": [
    "### Merge"
   ]
  },
  {
   "cell_type": "code",
   "execution_count": 9,
   "metadata": {},
   "outputs": [
    {
     "data": {
      "text/html": [
       "<div>\n",
       "<style scoped>\n",
       "    .dataframe tbody tr th:only-of-type {\n",
       "        vertical-align: middle;\n",
       "    }\n",
       "\n",
       "    .dataframe tbody tr th {\n",
       "        vertical-align: top;\n",
       "    }\n",
       "\n",
       "    .dataframe thead th {\n",
       "        text-align: right;\n",
       "    }\n",
       "</style>\n",
       "<table border=\"1\" class=\"dataframe\">\n",
       "  <thead>\n",
       "    <tr style=\"text-align: right;\">\n",
       "      <th></th>\n",
       "      <th>name</th>\n",
       "      <th>position</th>\n",
       "      <th>rollup</th>\n",
       "    </tr>\n",
       "  </thead>\n",
       "  <tbody>\n",
       "    <tr>\n",
       "      <th>7</th>\n",
       "      <td>Andrei Vasilevskiy</td>\n",
       "      <td>G</td>\n",
       "      <td>93.309038</td>\n",
       "    </tr>\n",
       "    <tr>\n",
       "      <th>83</th>\n",
       "      <td>Philipp Grubauer</td>\n",
       "      <td>G</td>\n",
       "      <td>82.063000</td>\n",
       "    </tr>\n",
       "    <tr>\n",
       "      <th>35</th>\n",
       "      <td>Tuukka Rask</td>\n",
       "      <td>G</td>\n",
       "      <td>81.849230</td>\n",
       "    </tr>\n",
       "    <tr>\n",
       "      <th>39</th>\n",
       "      <td>Robin Lehner</td>\n",
       "      <td>G</td>\n",
       "      <td>81.442042</td>\n",
       "    </tr>\n",
       "    <tr>\n",
       "      <th>38</th>\n",
       "      <td>Carter Hart</td>\n",
       "      <td>G</td>\n",
       "      <td>80.446691</td>\n",
       "    </tr>\n",
       "  </tbody>\n",
       "</table>\n",
       "</div>"
      ],
      "text/plain": [
       "                  name position     rollup\n",
       "7   Andrei Vasilevskiy        G  93.309038\n",
       "83    Philipp Grubauer        G  82.063000\n",
       "35         Tuukka Rask        G  81.849230\n",
       "39        Robin Lehner        G  81.442042\n",
       "38         Carter Hart        G  80.446691"
      ]
     },
     "execution_count": 9,
     "metadata": {},
     "output_type": "execute_result"
    }
   ],
   "source": [
    "rollup = pd.concat([skaters, goalies])\n",
    "df = pd.merge(multi, rollup, how=\"inner\", on=\"name\").sort_values(\"rollup\", ascending=False)\n",
    "df.head()"
   ]
  },
  {
   "cell_type": "markdown",
   "metadata": {},
   "source": [
    "### VORP"
   ]
  },
  {
   "cell_type": "code",
   "execution_count": 10,
   "metadata": {},
   "outputs": [],
   "source": [
    "# pool particulars\n",
    "pool_size = 12\n",
    "starters = {'C': 2, 'LW': 2, 'RW': 2, 'D': 4, 'G': 2}\n",
    "\n",
    "df[\"vorp\"] = df[\"rollup\"]\n",
    "\n",
    "for position, slots in starters.items():\n",
    "    replacement = (\n",
    "        df[df['position'] == position]\n",
    "        .sort_values('vorp', ascending=False)\n",
    "        .head(slots * pool_size)\n",
    "        ['vorp']\n",
    "        .mean()\n",
    "    )\n",
    "    df.loc[df['position'] == position, 'vorp'] = df['vorp'] - replacement\n",
    "    \n",
    "df = df.sort_values(\"vorp\", ascending=False)\n",
    "df = df.groupby(\"name\").head(1)[[\"name\", \"rollup\", \"vorp\"]]\n",
    "df['rank'] = df['vorp'].rank(method='average', ascending=False)"
   ]
  },
  {
   "cell_type": "markdown",
   "metadata": {},
   "source": [
    "### Draft"
   ]
  },
  {
   "cell_type": "code",
   "execution_count": 11,
   "metadata": {},
   "outputs": [
    {
     "data": {
      "text/html": [
       "<div>\n",
       "<style scoped>\n",
       "    .dataframe tbody tr th:only-of-type {\n",
       "        vertical-align: middle;\n",
       "    }\n",
       "\n",
       "    .dataframe tbody tr th {\n",
       "        vertical-align: top;\n",
       "    }\n",
       "\n",
       "    .dataframe thead th {\n",
       "        text-align: right;\n",
       "    }\n",
       "</style>\n",
       "<table border=\"1\" class=\"dataframe\">\n",
       "  <thead>\n",
       "    <tr style=\"text-align: right;\">\n",
       "      <th></th>\n",
       "      <th>name</th>\n",
       "      <th>team</th>\n",
       "      <th>position</th>\n",
       "      <th>age</th>\n",
       "      <th>rollup</th>\n",
       "      <th>vorp</th>\n",
       "      <th>round</th>\n",
       "      <th>pick</th>\n",
       "      <th>rank</th>\n",
       "      <th>arbitrage</th>\n",
       "    </tr>\n",
       "  </thead>\n",
       "  <tbody>\n",
       "    <tr>\n",
       "      <th>6</th>\n",
       "      <td>Andrei Vasilevskiy</td>\n",
       "      <td>TB</td>\n",
       "      <td>G</td>\n",
       "      <td>26.0</td>\n",
       "      <td>93.309038</td>\n",
       "      <td>20.816607</td>\n",
       "      <td>1.0</td>\n",
       "      <td>7.6</td>\n",
       "      <td>1.0</td>\n",
       "      <td>6.6</td>\n",
       "    </tr>\n",
       "    <tr>\n",
       "      <th>1</th>\n",
       "      <td>Nathan MacKinnon</td>\n",
       "      <td>Col</td>\n",
       "      <td>C</td>\n",
       "      <td>25.0</td>\n",
       "      <td>63.015053</td>\n",
       "      <td>15.881379</td>\n",
       "      <td>1.0</td>\n",
       "      <td>2.6</td>\n",
       "      <td>2.0</td>\n",
       "      <td>0.6</td>\n",
       "    </tr>\n",
       "    <tr>\n",
       "      <th>29</th>\n",
       "      <td>Roman Josi</td>\n",
       "      <td>Nsh</td>\n",
       "      <td>D</td>\n",
       "      <td>30.0</td>\n",
       "      <td>53.229728</td>\n",
       "      <td>13.067851</td>\n",
       "      <td>3.0</td>\n",
       "      <td>32.8</td>\n",
       "      <td>3.0</td>\n",
       "      <td>29.8</td>\n",
       "    </tr>\n",
       "    <tr>\n",
       "      <th>0</th>\n",
       "      <td>Connor McDavid</td>\n",
       "      <td>Edm</td>\n",
       "      <td>C</td>\n",
       "      <td>23.0</td>\n",
       "      <td>58.994859</td>\n",
       "      <td>11.861184</td>\n",
       "      <td>1.0</td>\n",
       "      <td>1.7</td>\n",
       "      <td>4.0</td>\n",
       "      <td>-2.3</td>\n",
       "    </tr>\n",
       "    <tr>\n",
       "      <th>4</th>\n",
       "      <td>Alex Ovechkin</td>\n",
       "      <td>Was</td>\n",
       "      <td>LW</td>\n",
       "      <td>35.0</td>\n",
       "      <td>57.153766</td>\n",
       "      <td>11.590759</td>\n",
       "      <td>1.0</td>\n",
       "      <td>5.6</td>\n",
       "      <td>5.0</td>\n",
       "      <td>0.6</td>\n",
       "    </tr>\n",
       "  </tbody>\n",
       "</table>\n",
       "</div>"
      ],
      "text/plain": [
       "                  name team position   age     rollup       vorp  round  pick  \\\n",
       "6   Andrei Vasilevskiy   TB        G  26.0  93.309038  20.816607    1.0   7.6   \n",
       "1     Nathan MacKinnon  Col        C  25.0  63.015053  15.881379    1.0   2.6   \n",
       "29          Roman Josi  Nsh        D  30.0  53.229728  13.067851    3.0  32.8   \n",
       "0       Connor McDavid  Edm        C  23.0  58.994859  11.861184    1.0   1.7   \n",
       "4        Alex Ovechkin  Was       LW  35.0  57.153766  11.590759    1.0   5.6   \n",
       "\n",
       "    rank  arbitrage  \n",
       "6    1.0        6.6  \n",
       "1    2.0        0.6  \n",
       "29   3.0       29.8  \n",
       "0    4.0       -2.3  \n",
       "4    5.0        0.6  "
      ]
     },
     "execution_count": 11,
     "metadata": {},
     "output_type": "execute_result"
    }
   ],
   "source": [
    "draft = pd.merge(master, df, how=\"left\", on=\"name\")\n",
    "draft[\"arbitrage\"] = draft[\"pick\"] - draft[\"rank\"]\n",
    "draft['round'] = (draft['pick'] // pool_size) + 1\n",
    "\n",
    "draft = draft[['name', 'team', 'position', 'age', 'rollup', 'vorp', \"round\", 'pick', 'rank', 'arbitrage']]\n",
    "draft = draft.sort_values(\"rank\")\n",
    "draft.head()"
   ]
  },
  {
   "cell_type": "code",
   "execution_count": 12,
   "metadata": {},
   "outputs": [],
   "source": [
    "draft.to_csv(\"../data/draft.csv\", index=False)"
   ]
  }
 ],
 "metadata": {
  "kernelspec": {
   "display_name": "Python 3",
   "language": "python",
   "name": "python3"
  },
  "language_info": {
   "codemirror_mode": {
    "name": "ipython",
    "version": 3
   },
   "file_extension": ".py",
   "mimetype": "text/x-python",
   "name": "python",
   "nbconvert_exporter": "python",
   "pygments_lexer": "ipython3",
   "version": "3.8.3"
  }
 },
 "nbformat": 4,
 "nbformat_minor": 4
}
