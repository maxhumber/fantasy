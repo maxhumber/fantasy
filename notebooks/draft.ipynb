{
 "cells": [
  {
   "cell_type": "code",
   "execution_count": 1,
   "metadata": {},
   "outputs": [],
   "source": [
    "import pandas as pd\n",
    "import numpy as np\n",
    "\n",
    "pd.options.display.max_rows = 1_000"
   ]
  },
  {
   "cell_type": "markdown",
   "metadata": {},
   "source": [
    "### Pool Particulars"
   ]
  },
  {
   "cell_type": "code",
   "execution_count": 2,
   "metadata": {},
   "outputs": [],
   "source": [
    "pool_size = 12\n",
    "starters = {'C': 2, 'LW': 2, 'RW': 2, 'D': 4, 'G': 2}"
   ]
  },
  {
   "cell_type": "markdown",
   "metadata": {},
   "source": [
    "### Master List"
   ]
  },
  {
   "cell_type": "code",
   "execution_count": 3,
   "metadata": {},
   "outputs": [],
   "source": [
    "yah = pd.read_csv(\"../data/yahoo.csv\")\n",
    "cap = pd.read_csv(\"../data/capfriendly.csv\")\n",
    "\n",
    "# merge\n",
    "master = pd.merge(yah, cap, how=\"left\", on=\"name\")\n",
    "\n",
    "# extra features\n",
    "master[\"apv\"] = master[\"pick\"] \n",
    "master[\"pick\"] = master[\"pick\"].rank(method='average', ascending=True)\n",
    "master['round'] = (master['pick'] // pool_size) + 1\n",
    "\n",
    "# Organize\n",
    "master = master[['team', 'age', 'name', 'position', 'apv', 'pick', 'round']]"
   ]
  },
  {
   "cell_type": "code",
   "execution_count": 4,
   "metadata": {},
   "outputs": [
    {
     "data": {
      "text/html": [
       "<div>\n",
       "<style scoped>\n",
       "    .dataframe tbody tr th:only-of-type {\n",
       "        vertical-align: middle;\n",
       "    }\n",
       "\n",
       "    .dataframe tbody tr th {\n",
       "        vertical-align: top;\n",
       "    }\n",
       "\n",
       "    .dataframe thead th {\n",
       "        text-align: right;\n",
       "    }\n",
       "</style>\n",
       "<table border=\"1\" class=\"dataframe\">\n",
       "  <thead>\n",
       "    <tr style=\"text-align: right;\">\n",
       "      <th></th>\n",
       "      <th>team</th>\n",
       "      <th>age</th>\n",
       "      <th>name</th>\n",
       "      <th>position</th>\n",
       "      <th>apv</th>\n",
       "      <th>pick</th>\n",
       "      <th>round</th>\n",
       "    </tr>\n",
       "  </thead>\n",
       "  <tbody>\n",
       "    <tr>\n",
       "      <th>0</th>\n",
       "      <td>Edm</td>\n",
       "      <td>23.0</td>\n",
       "      <td>Connor McDavid</td>\n",
       "      <td>C</td>\n",
       "      <td>1.7</td>\n",
       "      <td>1.0</td>\n",
       "      <td>1.0</td>\n",
       "    </tr>\n",
       "    <tr>\n",
       "      <th>1</th>\n",
       "      <td>Col</td>\n",
       "      <td>25.0</td>\n",
       "      <td>Nathan MacKinnon</td>\n",
       "      <td>C</td>\n",
       "      <td>2.6</td>\n",
       "      <td>2.0</td>\n",
       "      <td>1.0</td>\n",
       "    </tr>\n",
       "    <tr>\n",
       "      <th>2</th>\n",
       "      <td>Edm</td>\n",
       "      <td>25.0</td>\n",
       "      <td>Leon Draisaitl</td>\n",
       "      <td>C,LW</td>\n",
       "      <td>3.7</td>\n",
       "      <td>3.0</td>\n",
       "      <td>1.0</td>\n",
       "    </tr>\n",
       "    <tr>\n",
       "      <th>3</th>\n",
       "      <td>NYR</td>\n",
       "      <td>29.0</td>\n",
       "      <td>Artemi Panarin</td>\n",
       "      <td>LW</td>\n",
       "      <td>5.3</td>\n",
       "      <td>4.0</td>\n",
       "      <td>1.0</td>\n",
       "    </tr>\n",
       "    <tr>\n",
       "      <th>4</th>\n",
       "      <td>Was</td>\n",
       "      <td>35.0</td>\n",
       "      <td>Alex Ovechkin</td>\n",
       "      <td>LW</td>\n",
       "      <td>5.6</td>\n",
       "      <td>5.0</td>\n",
       "      <td>1.0</td>\n",
       "    </tr>\n",
       "  </tbody>\n",
       "</table>\n",
       "</div>"
      ],
      "text/plain": [
       "  team   age              name position  apv  pick  round\n",
       "0  Edm  23.0    Connor McDavid        C  1.7   1.0    1.0\n",
       "1  Col  25.0  Nathan MacKinnon        C  2.6   2.0    1.0\n",
       "2  Edm  25.0    Leon Draisaitl     C,LW  3.7   3.0    1.0\n",
       "3  NYR  29.0    Artemi Panarin       LW  5.3   4.0    1.0\n",
       "4  Was  35.0     Alex Ovechkin       LW  5.6   5.0    1.0"
      ]
     },
     "execution_count": 4,
     "metadata": {},
     "output_type": "execute_result"
    }
   ],
   "source": [
    "master.head()"
   ]
  },
  {
   "cell_type": "markdown",
   "metadata": {},
   "source": [
    "### Multiple Positions"
   ]
  },
  {
   "cell_type": "code",
   "execution_count": 5,
   "metadata": {},
   "outputs": [],
   "source": [
    "multi = (\n",
    "    master\n",
    "    [[\"name\", \"position\"]]\n",
    "    .set_index(['name']) \n",
    "    .apply(lambda col: col.str.split(',').explode())\n",
    "    .reset_index()\n",
    ")"
   ]
  },
  {
   "cell_type": "markdown",
   "metadata": {},
   "source": [
    "### Projection Data"
   ]
  },
  {
   "cell_type": "code",
   "execution_count": 6,
   "metadata": {},
   "outputs": [],
   "source": [
    "cbs = pd.read_csv(\"../data/cbs.csv\")\n",
    "dfo = pd.read_csv(\"../data/dailyfaceoff.csv\")\n",
    "proj = pd.concat([cbs, dfo])"
   ]
  },
  {
   "cell_type": "markdown",
   "metadata": {},
   "source": [
    "### Goalies"
   ]
  },
  {
   "cell_type": "code",
   "execution_count": 7,
   "metadata": {},
   "outputs": [],
   "source": [
    "goalies = proj[proj[\"position\"] == \"G\"].copy()\n",
    "\n",
    "GOALIE_CATEGORIES = [\"wins\", \"goals_against_average\",\"saves\", \"shutouts\"]\n",
    "\n",
    "goalies['goals_against_average'] = -goalies['goals_against_average']\n",
    "\n",
    "goalies = (\n",
    "    goalies\n",
    "    [[\"name\"] + GOALIE_CATEGORIES]\n",
    "    .groupby(\"name\")\n",
    "    .mean()\n",
    "    .apply(lambda x: (x - x.min()) / (x.max() - x.min()))\n",
    ")\n",
    "\n",
    "goalies[\"wins\"] *= 1/1\n",
    "goalies[\"goals_against_average\"] *= 3/4\n",
    "goalies[\"saves\"] *= 3/4\n",
    "goalies[\"shutouts\"] *= 1/2\n",
    "\n",
    "goalies[\"rollup\"] = goalies.apply(lambda row: row.sum(), axis=1)\n",
    "goalies[\"rollup\"] /= 1 + 3/4 + 3/4 + 1/2\n",
    "goalies[\"rollup\"] *= 100\n",
    "\n",
    "goalies = goalies.reset_index()\n",
    "\n",
    "goalies = goalies[[\"name\", \"rollup\"]]"
   ]
  },
  {
   "cell_type": "markdown",
   "metadata": {},
   "source": [
    "### Skaters"
   ]
  },
  {
   "cell_type": "code",
   "execution_count": 8,
   "metadata": {},
   "outputs": [],
   "source": [
    "skaters = proj[proj[\"position\"] != \"G\"].copy()\n",
    "\n",
    "SKATER_CATEGORIES = ['goals', 'assists', 'plus_minus', 'powerplay_points', 'shots_on_goal', 'hits', 'blocks']\n",
    "\n",
    "skaters = skaters[[\"name\"] + SKATER_CATEGORIES]\n",
    "\n",
    "skaters = (\n",
    "    skaters\n",
    "    [[\"name\"] + SKATER_CATEGORIES]\n",
    "    .groupby(\"name\")\n",
    "    .mean()\n",
    "    .apply(lambda x: (x - x.min()) / (x.max() - x.min()))\n",
    ")\n",
    "\n",
    "skaters.sort_values(\"name\")\n",
    "\n",
    "skaters['goals'] *= 7/8\n",
    "skaters['assists'] *= 7/8\n",
    "skaters['plus_minus'] *= 3/4\n",
    "skaters['powerplay_points'] *= 3/4\n",
    "skaters['shots_on_goal'] *= 1\n",
    "skaters['hits'] *= 1\n",
    "skaters['blocks'] *= 1\n",
    "\n",
    "skaters[\"rollup\"] = skaters.apply(lambda row: row.sum(), axis=1)\n",
    "skaters[\"rollup\"] /= 7/8 + 7/8 + 3/4 +3/4 + 1 + 1 + 1\n",
    "skaters[\"rollup\"] *= 100\n",
    "\n",
    "skaters = skaters.reset_index()\n",
    "\n",
    "skaters = skaters[[\"name\", \"rollup\"]]"
   ]
  },
  {
   "cell_type": "markdown",
   "metadata": {},
   "source": [
    "### Merge"
   ]
  },
  {
   "cell_type": "code",
   "execution_count": 9,
   "metadata": {},
   "outputs": [
    {
     "data": {
      "text/html": [
       "<div>\n",
       "<style scoped>\n",
       "    .dataframe tbody tr th:only-of-type {\n",
       "        vertical-align: middle;\n",
       "    }\n",
       "\n",
       "    .dataframe tbody tr th {\n",
       "        vertical-align: top;\n",
       "    }\n",
       "\n",
       "    .dataframe thead th {\n",
       "        text-align: right;\n",
       "    }\n",
       "</style>\n",
       "<table border=\"1\" class=\"dataframe\">\n",
       "  <thead>\n",
       "    <tr style=\"text-align: right;\">\n",
       "      <th></th>\n",
       "      <th>name</th>\n",
       "      <th>position</th>\n",
       "      <th>rollup</th>\n",
       "    </tr>\n",
       "  </thead>\n",
       "  <tbody>\n",
       "    <tr>\n",
       "      <th>7</th>\n",
       "      <td>Andrei Vasilevskiy</td>\n",
       "      <td>G</td>\n",
       "      <td>93.309038</td>\n",
       "    </tr>\n",
       "    <tr>\n",
       "      <th>83</th>\n",
       "      <td>Philipp Grubauer</td>\n",
       "      <td>G</td>\n",
       "      <td>82.063000</td>\n",
       "    </tr>\n",
       "    <tr>\n",
       "      <th>35</th>\n",
       "      <td>Tuukka Rask</td>\n",
       "      <td>G</td>\n",
       "      <td>81.849230</td>\n",
       "    </tr>\n",
       "    <tr>\n",
       "      <th>39</th>\n",
       "      <td>Robin Lehner</td>\n",
       "      <td>G</td>\n",
       "      <td>81.442042</td>\n",
       "    </tr>\n",
       "    <tr>\n",
       "      <th>38</th>\n",
       "      <td>Carter Hart</td>\n",
       "      <td>G</td>\n",
       "      <td>80.446691</td>\n",
       "    </tr>\n",
       "  </tbody>\n",
       "</table>\n",
       "</div>"
      ],
      "text/plain": [
       "                  name position     rollup\n",
       "7   Andrei Vasilevskiy        G  93.309038\n",
       "83    Philipp Grubauer        G  82.063000\n",
       "35         Tuukka Rask        G  81.849230\n",
       "39        Robin Lehner        G  81.442042\n",
       "38         Carter Hart        G  80.446691"
      ]
     },
     "execution_count": 9,
     "metadata": {},
     "output_type": "execute_result"
    }
   ],
   "source": [
    "rollup = pd.concat([skaters, goalies])\n",
    "rollup = pd.merge(multi, rollup, how=\"inner\", on=\"name\").sort_values(\"rollup\", ascending=False)\n",
    "rollup.head()"
   ]
  },
  {
   "cell_type": "markdown",
   "metadata": {},
   "source": [
    "### VORP"
   ]
  },
  {
   "cell_type": "code",
   "execution_count": 10,
   "metadata": {},
   "outputs": [
    {
     "data": {
      "text/html": [
       "<div>\n",
       "<style scoped>\n",
       "    .dataframe tbody tr th:only-of-type {\n",
       "        vertical-align: middle;\n",
       "    }\n",
       "\n",
       "    .dataframe tbody tr th {\n",
       "        vertical-align: top;\n",
       "    }\n",
       "\n",
       "    .dataframe thead th {\n",
       "        text-align: right;\n",
       "    }\n",
       "</style>\n",
       "<table border=\"1\" class=\"dataframe\">\n",
       "  <thead>\n",
       "    <tr style=\"text-align: right;\">\n",
       "      <th></th>\n",
       "      <th>name</th>\n",
       "      <th>position</th>\n",
       "      <th>rollup</th>\n",
       "      <th>vorp</th>\n",
       "    </tr>\n",
       "  </thead>\n",
       "  <tbody>\n",
       "    <tr>\n",
       "      <th>7</th>\n",
       "      <td>Andrei Vasilevskiy</td>\n",
       "      <td>G</td>\n",
       "      <td>93.309038</td>\n",
       "      <td>20.816607</td>\n",
       "    </tr>\n",
       "    <tr>\n",
       "      <th>83</th>\n",
       "      <td>Philipp Grubauer</td>\n",
       "      <td>G</td>\n",
       "      <td>82.063000</td>\n",
       "      <td>9.570569</td>\n",
       "    </tr>\n",
       "    <tr>\n",
       "      <th>35</th>\n",
       "      <td>Tuukka Rask</td>\n",
       "      <td>G</td>\n",
       "      <td>81.849230</td>\n",
       "      <td>9.356799</td>\n",
       "    </tr>\n",
       "    <tr>\n",
       "      <th>39</th>\n",
       "      <td>Robin Lehner</td>\n",
       "      <td>G</td>\n",
       "      <td>81.442042</td>\n",
       "      <td>8.949611</td>\n",
       "    </tr>\n",
       "    <tr>\n",
       "      <th>38</th>\n",
       "      <td>Carter Hart</td>\n",
       "      <td>G</td>\n",
       "      <td>80.446691</td>\n",
       "      <td>7.954260</td>\n",
       "    </tr>\n",
       "  </tbody>\n",
       "</table>\n",
       "</div>"
      ],
      "text/plain": [
       "                  name position     rollup       vorp\n",
       "7   Andrei Vasilevskiy        G  93.309038  20.816607\n",
       "83    Philipp Grubauer        G  82.063000   9.570569\n",
       "35         Tuukka Rask        G  81.849230   9.356799\n",
       "39        Robin Lehner        G  81.442042   8.949611\n",
       "38         Carter Hart        G  80.446691   7.954260"
      ]
     },
     "execution_count": 10,
     "metadata": {},
     "output_type": "execute_result"
    }
   ],
   "source": [
    "vorp = rollup.copy()\n",
    "vorp[\"vorp\"] = vorp[\"rollup\"]\n",
    "\n",
    "for position, slots in starters.items():\n",
    "    replacement = (\n",
    "        vorp[vorp['position'] == position]\n",
    "        .sort_values('vorp', ascending=False)\n",
    "        .head(slots * pool_size)\n",
    "        ['vorp']\n",
    "        .mean()\n",
    "    )\n",
    "    vorp.loc[vorp['position'] == position, 'vorp'] = vorp['vorp'] - replacement\n",
    "\n",
    "vorp.head()"
   ]
  },
  {
   "cell_type": "markdown",
   "metadata": {},
   "source": [
    "### Value Over Next Round"
   ]
  },
  {
   "cell_type": "code",
   "execution_count": 11,
   "metadata": {},
   "outputs": [],
   "source": [
    "vnr = pd.merge(vorp, master[[\"name\", \"round\"]], how=\"inner\", on=\"name\")\n",
    "\n",
    "vnr = (\n",
    "    vnr\n",
    "    .sort_values([\"rollup\"], ascending=[False])\n",
    "    .groupby([\"round\", \"position\"])\n",
    "    .head(1)\n",
    "    .sort_values([\"position\", \"round\"])\n",
    ")\n",
    "\n",
    "vnr[\"round\"] = vnr[\"round\"] - 1\n",
    "vnr[\"next\"] = vnr[\"rollup\"]\n",
    "vnr = vnr[[\"round\", \"position\", \"next\"]]"
   ]
  },
  {
   "cell_type": "markdown",
   "metadata": {},
   "source": [
    "### Draft"
   ]
  },
  {
   "cell_type": "code",
   "execution_count": 12,
   "metadata": {},
   "outputs": [
    {
     "data": {
      "text/html": [
       "<div>\n",
       "<style scoped>\n",
       "    .dataframe tbody tr th:only-of-type {\n",
       "        vertical-align: middle;\n",
       "    }\n",
       "\n",
       "    .dataframe tbody tr th {\n",
       "        vertical-align: top;\n",
       "    }\n",
       "\n",
       "    .dataframe thead th {\n",
       "        text-align: right;\n",
       "    }\n",
       "</style>\n",
       "<table border=\"1\" class=\"dataframe\">\n",
       "  <thead>\n",
       "    <tr style=\"text-align: right;\">\n",
       "      <th></th>\n",
       "      <th>team</th>\n",
       "      <th>age</th>\n",
       "      <th>name</th>\n",
       "      <th>position_yahoo</th>\n",
       "      <th>rollup</th>\n",
       "      <th>vorp</th>\n",
       "      <th>vorn</th>\n",
       "      <th>round</th>\n",
       "      <th>pick</th>\n",
       "      <th>rank</th>\n",
       "      <th>arbitrage</th>\n",
       "    </tr>\n",
       "  </thead>\n",
       "  <tbody>\n",
       "    <tr>\n",
       "      <th>7</th>\n",
       "      <td>TB</td>\n",
       "      <td>26.0</td>\n",
       "      <td>Andrei Vasilevskiy</td>\n",
       "      <td>G</td>\n",
       "      <td>93.3</td>\n",
       "      <td>20.8</td>\n",
       "      <td>15.1</td>\n",
       "      <td>1.0</td>\n",
       "      <td>7.0</td>\n",
       "      <td>1.0</td>\n",
       "      <td>6.0</td>\n",
       "    </tr>\n",
       "    <tr>\n",
       "      <th>1</th>\n",
       "      <td>Col</td>\n",
       "      <td>25.0</td>\n",
       "      <td>Nathan MacKinnon</td>\n",
       "      <td>C</td>\n",
       "      <td>63.0</td>\n",
       "      <td>15.9</td>\n",
       "      <td>5.6</td>\n",
       "      <td>1.0</td>\n",
       "      <td>2.0</td>\n",
       "      <td>2.0</td>\n",
       "      <td>0.0</td>\n",
       "    </tr>\n",
       "    <tr>\n",
       "      <th>34</th>\n",
       "      <td>Nsh</td>\n",
       "      <td>30.0</td>\n",
       "      <td>Roman Josi</td>\n",
       "      <td>D</td>\n",
       "      <td>53.2</td>\n",
       "      <td>13.1</td>\n",
       "      <td>3.8</td>\n",
       "      <td>3.0</td>\n",
       "      <td>30.0</td>\n",
       "      <td>3.0</td>\n",
       "      <td>27.0</td>\n",
       "    </tr>\n",
       "    <tr>\n",
       "      <th>0</th>\n",
       "      <td>Edm</td>\n",
       "      <td>23.0</td>\n",
       "      <td>Connor McDavid</td>\n",
       "      <td>C</td>\n",
       "      <td>59.0</td>\n",
       "      <td>11.9</td>\n",
       "      <td>1.5</td>\n",
       "      <td>1.0</td>\n",
       "      <td>1.0</td>\n",
       "      <td>4.0</td>\n",
       "      <td>-3.0</td>\n",
       "    </tr>\n",
       "    <tr>\n",
       "      <th>5</th>\n",
       "      <td>Was</td>\n",
       "      <td>35.0</td>\n",
       "      <td>Alex Ovechkin</td>\n",
       "      <td>LW</td>\n",
       "      <td>57.2</td>\n",
       "      <td>11.6</td>\n",
       "      <td>5.9</td>\n",
       "      <td>1.0</td>\n",
       "      <td>5.0</td>\n",
       "      <td>5.0</td>\n",
       "      <td>0.0</td>\n",
       "    </tr>\n",
       "  </tbody>\n",
       "</table>\n",
       "</div>"
      ],
      "text/plain": [
       "   team   age                name position_yahoo  rollup  vorp  vorn  round  \\\n",
       "7    TB  26.0  Andrei Vasilevskiy              G    93.3  20.8  15.1    1.0   \n",
       "1   Col  25.0    Nathan MacKinnon              C    63.0  15.9   5.6    1.0   \n",
       "34  Nsh  30.0          Roman Josi              D    53.2  13.1   3.8    3.0   \n",
       "0   Edm  23.0      Connor McDavid              C    59.0  11.9   1.5    1.0   \n",
       "5   Was  35.0       Alex Ovechkin             LW    57.2  11.6   5.9    1.0   \n",
       "\n",
       "    pick  rank  arbitrage  \n",
       "7    7.0   1.0        6.0  \n",
       "1    2.0   2.0        0.0  \n",
       "34  30.0   3.0       27.0  \n",
       "0    1.0   4.0       -3.0  \n",
       "5    5.0   5.0        0.0  "
      ]
     },
     "execution_count": 12,
     "metadata": {},
     "output_type": "execute_result"
    }
   ],
   "source": [
    "draft = pd.merge(master, vorp, how=\"left\", on=\"name\", suffixes=(\"_yahoo\", \"\"))\n",
    "draft = pd.merge(draft, vnr, how=\"left\", on=[\"position\", \"round\"])\n",
    "\n",
    "draft = draft.sort_values(\"vorp\", ascending=False)\n",
    "draft = draft.groupby(\"name\").head(1)\n",
    "\n",
    "draft[\"vorn\"] = draft[\"rollup\"] - draft[\"next\"]\n",
    "draft['rank'] = draft['vorp'].rank(method='average', ascending=False)\n",
    "draft[\"arbitrage\"] = draft[\"pick\"] - draft[\"rank\"]\n",
    "\n",
    "draft = draft[[\n",
    "    'team', 'age', 'name', 'position_yahoo', \n",
    "    'rollup', 'vorp', 'vorn',\n",
    "    'round', 'pick', 'rank', 'arbitrage'\n",
    "]]\n",
    "\n",
    "draft[\"rollup\"] = draft[\"rollup\"].round(1)\n",
    "draft[\"vorp\"] = draft[\"vorp\"].round(1)\n",
    "draft[\"vorn\"] = draft[\"vorn\"].round(1)\n",
    "\n",
    "draft.head()"
   ]
  },
  {
   "cell_type": "markdown",
   "metadata": {},
   "source": [
    "### Targets"
   ]
  },
  {
   "cell_type": "code",
   "execution_count": 13,
   "metadata": {},
   "outputs": [],
   "source": [
    "draft[\"target\"] = (\n",
    "    (draft[\"age\"] <= 30) &\n",
    "    (draft[\"vorp\"] >= -1) &\n",
    "    (draft[\"arbitrage\"] >= -12) & \n",
    "    (draft[\"vorn\"] >= 0)\n",
    ")"
   ]
  },
  {
   "cell_type": "code",
   "execution_count": 14,
   "metadata": {},
   "outputs": [],
   "source": [
    "draft.to_csv(\"../data/draft.csv\", index=False)"
   ]
  }
 ],
 "metadata": {
  "kernelspec": {
   "display_name": "Python 3",
   "language": "python",
   "name": "python3"
  },
  "language_info": {
   "codemirror_mode": {
    "name": "ipython",
    "version": 3
   },
   "file_extension": ".py",
   "mimetype": "text/x-python",
   "name": "python",
   "nbconvert_exporter": "python",
   "pygments_lexer": "ipython3",
   "version": "3.8.3"
  }
 },
 "nbformat": 4,
 "nbformat_minor": 4
}
