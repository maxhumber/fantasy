{
 "cells": [
  {
   "cell_type": "markdown",
   "metadata": {},
   "source": [
    "# Public Prize Draft"
   ]
  },
  {
   "cell_type": "code",
   "execution_count": 1,
   "metadata": {},
   "outputs": [],
   "source": [
    "import pandas as pd\n",
    "import numpy as np\n",
    "\n",
    "pd.options.display.max_rows = 1_000"
   ]
  },
  {
   "cell_type": "markdown",
   "metadata": {},
   "source": [
    "### Pool Settings"
   ]
  },
  {
   "cell_type": "code",
   "execution_count": 2,
   "metadata": {},
   "outputs": [],
   "source": [
    "# Yahoo Public Leagues\n",
    "\n",
    "TEAMS = 12\n",
    "ROSTER = {'C': 2, 'LW': 2, 'RW': 2, 'D': 4, 'G': 2}\n",
    "\n",
    "SKATER_CATEGORIES = {\n",
    "    'goals': 1/2, \n",
    "    'assists': 1, \n",
    "    'plus_minus': 1/4, \n",
    "    'powerplay_points': 3/4, \n",
    "    'shots_on_goal': 1, \n",
    "    'hits': 1\n",
    "}\n",
    "\n",
    "GOALIE_CATEGORIES = {\n",
    "    \"wins\" : 1, \n",
    "    \"goals_against_average\": 1/2,\n",
    "    \"save_percentage\": 1/2, \n",
    "    \"shutouts\": 1/10\n",
    "}"
   ]
  },
  {
   "cell_type": "markdown",
   "metadata": {},
   "source": [
    "### Yahoo Ranking Data"
   ]
  },
  {
   "cell_type": "code",
   "execution_count": 3,
   "metadata": {},
   "outputs": [
    {
     "data": {
      "text/html": [
       "<div>\n",
       "<style scoped>\n",
       "    .dataframe tbody tr th:only-of-type {\n",
       "        vertical-align: middle;\n",
       "    }\n",
       "\n",
       "    .dataframe tbody tr th {\n",
       "        vertical-align: top;\n",
       "    }\n",
       "\n",
       "    .dataframe thead th {\n",
       "        text-align: right;\n",
       "    }\n",
       "</style>\n",
       "<table border=\"1\" class=\"dataframe\">\n",
       "  <thead>\n",
       "    <tr style=\"text-align: right;\">\n",
       "      <th></th>\n",
       "      <th>team</th>\n",
       "      <th>age</th>\n",
       "      <th>name</th>\n",
       "      <th>position</th>\n",
       "      <th>yahoo_rank</th>\n",
       "    </tr>\n",
       "  </thead>\n",
       "  <tbody>\n",
       "    <tr>\n",
       "      <th>0</th>\n",
       "      <td>Col</td>\n",
       "      <td>25.0</td>\n",
       "      <td>Nathan MacKinnon</td>\n",
       "      <td>C</td>\n",
       "      <td>1.5</td>\n",
       "    </tr>\n",
       "    <tr>\n",
       "      <th>1</th>\n",
       "      <td>Was</td>\n",
       "      <td>35.0</td>\n",
       "      <td>Alex Ovechkin</td>\n",
       "      <td>LW</td>\n",
       "      <td>3.5</td>\n",
       "    </tr>\n",
       "    <tr>\n",
       "      <th>2</th>\n",
       "      <td>Edm</td>\n",
       "      <td>23.0</td>\n",
       "      <td>Connor McDavid</td>\n",
       "      <td>C</td>\n",
       "      <td>2.0</td>\n",
       "    </tr>\n",
       "    <tr>\n",
       "      <th>3</th>\n",
       "      <td>NYR</td>\n",
       "      <td>29.0</td>\n",
       "      <td>Artemi Panarin</td>\n",
       "      <td>LW</td>\n",
       "      <td>4.0</td>\n",
       "    </tr>\n",
       "    <tr>\n",
       "      <th>4</th>\n",
       "      <td>Edm</td>\n",
       "      <td>25.0</td>\n",
       "      <td>Leon Draisaitl</td>\n",
       "      <td>C,LW</td>\n",
       "      <td>4.0</td>\n",
       "    </tr>\n",
       "  </tbody>\n",
       "</table>\n",
       "</div>"
      ],
      "text/plain": [
       "  team   age              name position  yahoo_rank\n",
       "0  Col  25.0  Nathan MacKinnon        C         1.5\n",
       "1  Was  35.0     Alex Ovechkin       LW         3.5\n",
       "2  Edm  23.0    Connor McDavid        C         2.0\n",
       "3  NYR  29.0    Artemi Panarin       LW         4.0\n",
       "4  Edm  25.0    Leon Draisaitl     C,LW         4.0"
      ]
     },
     "execution_count": 3,
     "metadata": {},
     "output_type": "execute_result"
    }
   ],
   "source": [
    "age = pd.read_csv(\"../data/info-capfriendly_com.csv\")\n",
    "age = age[[\"name\", \"age\"]]\n",
    "\n",
    "yahoo = pd.read_csv(\"../data/projections-yahoo_com.csv\")\n",
    "yahoo[\"yahoo_rank\"] = (yahoo[\"ranking_preseason\"] + yahoo[\"ranking_current\"]) / 2\n",
    "yahoo = pd.merge(yahoo, age, how=\"left\", on=\"name\")\n",
    "\n",
    "yahoo = yahoo[[\"team\", \"age\", \"name\", \"position\", \"yahoo_rank\"]]\n",
    "\n",
    "yahoo.head()"
   ]
  },
  {
   "cell_type": "markdown",
   "metadata": {},
   "source": [
    "### Multiple Positions"
   ]
  },
  {
   "cell_type": "code",
   "execution_count": 4,
   "metadata": {},
   "outputs": [
    {
     "data": {
      "text/html": [
       "<div>\n",
       "<style scoped>\n",
       "    .dataframe tbody tr th:only-of-type {\n",
       "        vertical-align: middle;\n",
       "    }\n",
       "\n",
       "    .dataframe tbody tr th {\n",
       "        vertical-align: top;\n",
       "    }\n",
       "\n",
       "    .dataframe thead th {\n",
       "        text-align: right;\n",
       "    }\n",
       "</style>\n",
       "<table border=\"1\" class=\"dataframe\">\n",
       "  <thead>\n",
       "    <tr style=\"text-align: right;\">\n",
       "      <th></th>\n",
       "      <th>name</th>\n",
       "      <th>position</th>\n",
       "    </tr>\n",
       "  </thead>\n",
       "  <tbody>\n",
       "    <tr>\n",
       "      <th>0</th>\n",
       "      <td>Nathan MacKinnon</td>\n",
       "      <td>C</td>\n",
       "    </tr>\n",
       "    <tr>\n",
       "      <th>1</th>\n",
       "      <td>Alex Ovechkin</td>\n",
       "      <td>LW</td>\n",
       "    </tr>\n",
       "    <tr>\n",
       "      <th>2</th>\n",
       "      <td>Connor McDavid</td>\n",
       "      <td>C</td>\n",
       "    </tr>\n",
       "    <tr>\n",
       "      <th>3</th>\n",
       "      <td>Artemi Panarin</td>\n",
       "      <td>LW</td>\n",
       "    </tr>\n",
       "    <tr>\n",
       "      <th>4</th>\n",
       "      <td>Leon Draisaitl</td>\n",
       "      <td>C</td>\n",
       "    </tr>\n",
       "  </tbody>\n",
       "</table>\n",
       "</div>"
      ],
      "text/plain": [
       "               name position\n",
       "0  Nathan MacKinnon        C\n",
       "1     Alex Ovechkin       LW\n",
       "2    Connor McDavid        C\n",
       "3    Artemi Panarin       LW\n",
       "4    Leon Draisaitl        C"
      ]
     },
     "execution_count": 4,
     "metadata": {},
     "output_type": "execute_result"
    }
   ],
   "source": [
    "multi = (\n",
    "    yahoo\n",
    "    [[\"name\", \"position\"]]\n",
    "    .set_index(['name']) \n",
    "    .apply(lambda col: col.str.split(',').explode())\n",
    "    .reset_index()\n",
    ")\n",
    "\n",
    "multi.head()"
   ]
  },
  {
   "cell_type": "markdown",
   "metadata": {},
   "source": [
    "### Projection Data"
   ]
  },
  {
   "cell_type": "code",
   "execution_count": 5,
   "metadata": {},
   "outputs": [],
   "source": [
    "proj = pd.read_csv(\"../data/projections-generated.csv\")"
   ]
  },
  {
   "cell_type": "markdown",
   "metadata": {},
   "source": [
    "### Goalies"
   ]
  },
  {
   "cell_type": "code",
   "execution_count": 6,
   "metadata": {},
   "outputs": [
    {
     "data": {
      "text/html": [
       "<div>\n",
       "<style scoped>\n",
       "    .dataframe tbody tr th:only-of-type {\n",
       "        vertical-align: middle;\n",
       "    }\n",
       "\n",
       "    .dataframe tbody tr th {\n",
       "        vertical-align: top;\n",
       "    }\n",
       "\n",
       "    .dataframe thead th {\n",
       "        text-align: right;\n",
       "    }\n",
       "</style>\n",
       "<table border=\"1\" class=\"dataframe\">\n",
       "  <thead>\n",
       "    <tr style=\"text-align: right;\">\n",
       "      <th></th>\n",
       "      <th>name</th>\n",
       "      <th>rollup</th>\n",
       "    </tr>\n",
       "  </thead>\n",
       "  <tbody>\n",
       "    <tr>\n",
       "      <th>0</th>\n",
       "      <td>Andrei Vasilevskiy</td>\n",
       "      <td>95.321957</td>\n",
       "    </tr>\n",
       "    <tr>\n",
       "      <th>1</th>\n",
       "      <td>Connor Hellebuyck</td>\n",
       "      <td>68.028854</td>\n",
       "    </tr>\n",
       "    <tr>\n",
       "      <th>2</th>\n",
       "      <td>Tuukka Rask</td>\n",
       "      <td>69.554808</td>\n",
       "    </tr>\n",
       "    <tr>\n",
       "      <th>3</th>\n",
       "      <td>Carter Hart</td>\n",
       "      <td>66.366662</td>\n",
       "    </tr>\n",
       "    <tr>\n",
       "      <th>4</th>\n",
       "      <td>Robin Lehner</td>\n",
       "      <td>73.089270</td>\n",
       "    </tr>\n",
       "  </tbody>\n",
       "</table>\n",
       "</div>"
      ],
      "text/plain": [
       "                 name     rollup\n",
       "0  Andrei Vasilevskiy  95.321957\n",
       "1   Connor Hellebuyck  68.028854\n",
       "2         Tuukka Rask  69.554808\n",
       "3         Carter Hart  66.366662\n",
       "4        Robin Lehner  73.089270"
      ]
     },
     "execution_count": 6,
     "metadata": {},
     "output_type": "execute_result"
    }
   ],
   "source": [
    "goalies = proj[proj[\"position\"] == \"G\"].copy()\n",
    "\n",
    "goalies = (\n",
    "    goalies\n",
    "    [[\"name\"] + list(GOALIE_CATEGORIES.keys())]\n",
    "    .set_index(\"name\")\n",
    "    .apply(lambda x: (x - x.min()) / (x.max() - x.min()))\n",
    ")\n",
    "\n",
    "for key, value in GOALIE_CATEGORIES.items():\n",
    "    goalies[key] *= value\n",
    "    \n",
    "goalies[\"rollup\"] = goalies.apply(lambda row: row.sum(), axis=1)\n",
    "goalies[\"rollup\"] /= sum(GOALIE_CATEGORIES.values())\n",
    "goalies[\"rollup\"] *= 100\n",
    "\n",
    "goalies = goalies.reset_index()\n",
    "goalies = goalies[[\"name\", \"rollup\"]]\n",
    "\n",
    "goalies.head()"
   ]
  },
  {
   "cell_type": "markdown",
   "metadata": {},
   "source": [
    "### Skaters"
   ]
  },
  {
   "cell_type": "code",
   "execution_count": 7,
   "metadata": {},
   "outputs": [
    {
     "data": {
      "text/html": [
       "<div>\n",
       "<style scoped>\n",
       "    .dataframe tbody tr th:only-of-type {\n",
       "        vertical-align: middle;\n",
       "    }\n",
       "\n",
       "    .dataframe tbody tr th {\n",
       "        vertical-align: top;\n",
       "    }\n",
       "\n",
       "    .dataframe thead th {\n",
       "        text-align: right;\n",
       "    }\n",
       "</style>\n",
       "<table border=\"1\" class=\"dataframe\">\n",
       "  <thead>\n",
       "    <tr style=\"text-align: right;\">\n",
       "      <th></th>\n",
       "      <th>name</th>\n",
       "      <th>rollup</th>\n",
       "    </tr>\n",
       "  </thead>\n",
       "  <tbody>\n",
       "    <tr>\n",
       "      <th>0</th>\n",
       "      <td>Connor McDavid</td>\n",
       "      <td>67.893909</td>\n",
       "    </tr>\n",
       "    <tr>\n",
       "      <th>1</th>\n",
       "      <td>Nathan MacKinnon</td>\n",
       "      <td>72.391571</td>\n",
       "    </tr>\n",
       "    <tr>\n",
       "      <th>2</th>\n",
       "      <td>Leon Draisaitl</td>\n",
       "      <td>64.060035</td>\n",
       "    </tr>\n",
       "    <tr>\n",
       "      <th>3</th>\n",
       "      <td>Artemi Panarin</td>\n",
       "      <td>55.368554</td>\n",
       "    </tr>\n",
       "    <tr>\n",
       "      <th>4</th>\n",
       "      <td>Alex Ovechkin</td>\n",
       "      <td>65.728938</td>\n",
       "    </tr>\n",
       "  </tbody>\n",
       "</table>\n",
       "</div>"
      ],
      "text/plain": [
       "               name     rollup\n",
       "0    Connor McDavid  67.893909\n",
       "1  Nathan MacKinnon  72.391571\n",
       "2    Leon Draisaitl  64.060035\n",
       "3    Artemi Panarin  55.368554\n",
       "4     Alex Ovechkin  65.728938"
      ]
     },
     "execution_count": 7,
     "metadata": {},
     "output_type": "execute_result"
    }
   ],
   "source": [
    "skaters = proj[proj[\"position\"] != \"G\"].copy()\n",
    "skaters = (\n",
    "    skaters\n",
    "    [[\"name\"] + list(SKATER_CATEGORIES.keys())]\n",
    "    .set_index(\"name\")\n",
    "    .apply(lambda x: (x - x.min()) / (x.max() - x.min()))\n",
    ")\n",
    "     \n",
    "for key, value in SKATER_CATEGORIES.items():\n",
    "    skaters[key] *= value\n",
    "    \n",
    "skaters[\"rollup\"] = skaters.apply(lambda row: row.sum(), axis=1)\n",
    "skaters[\"rollup\"] /= sum(SKATER_CATEGORIES.values())\n",
    "skaters[\"rollup\"] *= 100\n",
    "\n",
    "skaters = skaters.reset_index()\n",
    "skaters = skaters[[\"name\", \"rollup\"]]\n",
    "\n",
    "skaters.head()"
   ]
  },
  {
   "cell_type": "markdown",
   "metadata": {},
   "source": [
    "### Merge"
   ]
  },
  {
   "cell_type": "code",
   "execution_count": 8,
   "metadata": {},
   "outputs": [
    {
     "data": {
      "text/html": [
       "<div>\n",
       "<style scoped>\n",
       "    .dataframe tbody tr th:only-of-type {\n",
       "        vertical-align: middle;\n",
       "    }\n",
       "\n",
       "    .dataframe tbody tr th {\n",
       "        vertical-align: top;\n",
       "    }\n",
       "\n",
       "    .dataframe thead th {\n",
       "        text-align: right;\n",
       "    }\n",
       "</style>\n",
       "<table border=\"1\" class=\"dataframe\">\n",
       "  <thead>\n",
       "    <tr style=\"text-align: right;\">\n",
       "      <th></th>\n",
       "      <th>name</th>\n",
       "      <th>position</th>\n",
       "      <th>rollup</th>\n",
       "    </tr>\n",
       "  </thead>\n",
       "  <tbody>\n",
       "    <tr>\n",
       "      <th>284</th>\n",
       "      <td>Andrei Vasilevskiy</td>\n",
       "      <td>G</td>\n",
       "      <td>95.321957</td>\n",
       "    </tr>\n",
       "    <tr>\n",
       "      <th>293</th>\n",
       "      <td>Anton Khudobin</td>\n",
       "      <td>G</td>\n",
       "      <td>75.730069</td>\n",
       "    </tr>\n",
       "    <tr>\n",
       "      <th>287</th>\n",
       "      <td>Robin Lehner</td>\n",
       "      <td>G</td>\n",
       "      <td>73.089270</td>\n",
       "    </tr>\n",
       "    <tr>\n",
       "      <th>0</th>\n",
       "      <td>Nathan MacKinnon</td>\n",
       "      <td>C</td>\n",
       "      <td>72.391571</td>\n",
       "    </tr>\n",
       "    <tr>\n",
       "      <th>307</th>\n",
       "      <td>Philipp Grubauer</td>\n",
       "      <td>G</td>\n",
       "      <td>72.234707</td>\n",
       "    </tr>\n",
       "  </tbody>\n",
       "</table>\n",
       "</div>"
      ],
      "text/plain": [
       "                   name position     rollup\n",
       "284  Andrei Vasilevskiy        G  95.321957\n",
       "293      Anton Khudobin        G  75.730069\n",
       "287        Robin Lehner        G  73.089270\n",
       "0      Nathan MacKinnon        C  72.391571\n",
       "307    Philipp Grubauer        G  72.234707"
      ]
     },
     "execution_count": 8,
     "metadata": {},
     "output_type": "execute_result"
    }
   ],
   "source": [
    "rollup = pd.concat([skaters, goalies])\n",
    "rollup = pd.merge(multi, rollup, how=\"inner\", on=\"name\").sort_values(\"rollup\", ascending=False)\n",
    "rollup.head()"
   ]
  },
  {
   "cell_type": "markdown",
   "metadata": {},
   "source": [
    "### VORP"
   ]
  },
  {
   "cell_type": "code",
   "execution_count": 9,
   "metadata": {},
   "outputs": [
    {
     "data": {
      "text/html": [
       "<div>\n",
       "<style scoped>\n",
       "    .dataframe tbody tr th:only-of-type {\n",
       "        vertical-align: middle;\n",
       "    }\n",
       "\n",
       "    .dataframe tbody tr th {\n",
       "        vertical-align: top;\n",
       "    }\n",
       "\n",
       "    .dataframe thead th {\n",
       "        text-align: right;\n",
       "    }\n",
       "</style>\n",
       "<table border=\"1\" class=\"dataframe\">\n",
       "  <thead>\n",
       "    <tr style=\"text-align: right;\">\n",
       "      <th></th>\n",
       "      <th>name</th>\n",
       "      <th>position</th>\n",
       "      <th>rollup</th>\n",
       "      <th>vorp</th>\n",
       "    </tr>\n",
       "  </thead>\n",
       "  <tbody>\n",
       "    <tr>\n",
       "      <th>284</th>\n",
       "      <td>Andrei Vasilevskiy</td>\n",
       "      <td>G</td>\n",
       "      <td>95.321957</td>\n",
       "      <td>35.155361</td>\n",
       "    </tr>\n",
       "    <tr>\n",
       "      <th>293</th>\n",
       "      <td>Anton Khudobin</td>\n",
       "      <td>G</td>\n",
       "      <td>75.730069</td>\n",
       "      <td>15.563473</td>\n",
       "    </tr>\n",
       "    <tr>\n",
       "      <th>287</th>\n",
       "      <td>Robin Lehner</td>\n",
       "      <td>G</td>\n",
       "      <td>73.089270</td>\n",
       "      <td>12.922674</td>\n",
       "    </tr>\n",
       "    <tr>\n",
       "      <th>0</th>\n",
       "      <td>Nathan MacKinnon</td>\n",
       "      <td>C</td>\n",
       "      <td>72.391571</td>\n",
       "      <td>22.250930</td>\n",
       "    </tr>\n",
       "    <tr>\n",
       "      <th>307</th>\n",
       "      <td>Philipp Grubauer</td>\n",
       "      <td>G</td>\n",
       "      <td>72.234707</td>\n",
       "      <td>12.068112</td>\n",
       "    </tr>\n",
       "  </tbody>\n",
       "</table>\n",
       "</div>"
      ],
      "text/plain": [
       "                   name position     rollup       vorp\n",
       "284  Andrei Vasilevskiy        G  95.321957  35.155361\n",
       "293      Anton Khudobin        G  75.730069  15.563473\n",
       "287        Robin Lehner        G  73.089270  12.922674\n",
       "0      Nathan MacKinnon        C  72.391571  22.250930\n",
       "307    Philipp Grubauer        G  72.234707  12.068112"
      ]
     },
     "execution_count": 9,
     "metadata": {},
     "output_type": "execute_result"
    }
   ],
   "source": [
    "vorp = rollup.copy()\n",
    "vorp[\"vorp\"] = vorp[\"rollup\"]\n",
    "\n",
    "for position, slots in ROSTER.items():\n",
    "    replacement = (\n",
    "        vorp[vorp['position'] == position]\n",
    "        .sort_values('vorp', ascending=False)\n",
    "        .head(slots * TEAMS)\n",
    "        ['vorp']\n",
    "        .mean()\n",
    "    )\n",
    "    vorp.loc[vorp['position'] == position, 'vorp'] = vorp['vorp'] - replacement\n",
    "\n",
    "vorp.head()"
   ]
  },
  {
   "cell_type": "markdown",
   "metadata": {},
   "source": [
    "### Lineups"
   ]
  },
  {
   "cell_type": "code",
   "execution_count": 10,
   "metadata": {},
   "outputs": [],
   "source": [
    "lineups = pd.read_csv(\"../data/lineups-dailyfaceoff_com.csv\")\n",
    "lineups[\"name\"] = lineups[\"name\"].replace(\"Nathan Mackinnon\", \"Nathan MacKinnon\")"
   ]
  },
  {
   "cell_type": "markdown",
   "metadata": {},
   "source": [
    "### Draft"
   ]
  },
  {
   "cell_type": "code",
   "execution_count": 11,
   "metadata": {},
   "outputs": [],
   "source": [
    "draft = pd.merge(yahoo, vorp, how=\"left\", on=\"name\", suffixes=(\"_yahoo\", \"\"))\n",
    "draft = pd.merge(draft, lineups, how=\"left\", on=\"name\")\n",
    "\n",
    "draft = draft.dropna(subset=[\"vorp\"])\n",
    "draft = draft.groupby(\"name\").head(1)\n",
    "\n",
    "draft = draft[[\n",
    "    'team', 'age', 'name', \n",
    "    'line', \"ppu\",\n",
    "    'position_yahoo', 'position',\n",
    "    'rollup', 'vorp', 'yahoo_rank',\n",
    "]]\n",
    "\n",
    "draft[\"rollup\"] = draft[\"rollup\"].round(1)\n",
    "draft[\"vorp\"] = draft[\"vorp\"].round(1)\n",
    "draft['rp'] = draft.groupby(\"position\")['yahoo_rank'].rank(ascending=True)\n",
    "draft['rp_vorp'] = draft.groupby(\"position\")['vorp'].rank(ascending=False)\n",
    "draft[\"rp_arbitrage\"] =  draft['rp'] - draft['rp_vorp']\n",
    "draft['round'] = draft[\"yahoo_rank\"] // TEAMS + 1\n",
    "draft = draft.sort_values(\"yahoo_rank\", ascending=True)"
   ]
  },
  {
   "cell_type": "markdown",
   "metadata": {},
   "source": [
    "### Targets"
   ]
  },
  {
   "cell_type": "code",
   "execution_count": 13,
   "metadata": {},
   "outputs": [],
   "source": [
    "draft[\"target\"] = (\n",
    "    (draft[\"age\"] <= 30) &\n",
    "    (draft[\"rp_arbitrage\"] >= -1) &\n",
    "    (draft[\"rp_vorp\"] <= 24) & \n",
    "    (draft[\"vorp\"] >= -5)\n",
    ")"
   ]
  },
  {
   "cell_type": "markdown",
   "metadata": {},
   "source": [
    "### Export"
   ]
  },
  {
   "cell_type": "code",
   "execution_count": 14,
   "metadata": {},
   "outputs": [],
   "source": [
    "draft.to_csv(\"../data/draft-$500.csv\", index=False)"
   ]
  }
 ],
 "metadata": {
  "kernelspec": {
   "display_name": "Python 3",
   "language": "python",
   "name": "python3"
  },
  "language_info": {
   "codemirror_mode": {
    "name": "ipython",
    "version": 3
   },
   "file_extension": ".py",
   "mimetype": "text/x-python",
   "name": "python",
   "nbconvert_exporter": "python",
   "pygments_lexer": "ipython3",
   "version": "3.8.3"
  }
 },
 "nbformat": 4,
 "nbformat_minor": 4
}
